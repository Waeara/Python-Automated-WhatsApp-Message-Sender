{
 "cells": [
  {
   "cell_type": "code",
   "execution_count": 3,
   "id": "09f72824",
   "metadata": {},
   "outputs": [],
   "source": [
    "import pywhatkit\n",
    "import pyautogui\n",
    "from pynput.keyboard import Key, Controller\n",
    "import emoji\n",
    "import random\n",
    "import time \n",
    "import tkinter as tk"
   ]
  },
  {
   "cell_type": "code",
   "execution_count": null,
   "id": "04328750",
   "metadata": {},
   "outputs": [],
   "source": [
    "def send_whatsapp_message(phoneNumber, msg, hour, minute):\n",
    "    try:\n",
    "        pywhatkit.sendwhatmsg(phoneNumber, msg, hour, minute)\n",
    "        time.sleep(10)\n",
    "        pyautogui.click()\n",
    "        time.sleep(1)\n",
    "        Controller().press(Key.enter)\n",
    "        Controller().release(Key.enter)\n",
    "        time.sleep(1)\n",
    "        print(\"Message sent!\")\n",
    "    except Exception as e:\n",
    "        print(str(e))\n",
    "\n",
    "def countMessages(numberOfMessages, phoneNumber, msg, startingHour, endingHour): \n",
    "    while numberOfMessages != 0:\n",
    "        hour = random.randrange(startingHour, endingHour)\n",
    "        minute = random.randrange(0, 60)\n",
    "        numberOfMessages -= 1\n",
    "        send_whatsapp_message(phoneNumber, msg, hour, minute)\n",
    "\n",
    "\n",
    "def displayStartHour(startingHourChoise):\n",
    "    startingHourChoise = startingHour.get()\n",
    "    \n",
    "def displayEndingHour(EndingHourChoise):\n",
    "    EndingHourChoise = endingHour.get()\n",
    "    \n",
    "theMessage = random.choice(['Hi, How are you?',\n",
    "             'How is your day?',\n",
    "             emoji.emojize('I love you :sparkling_heart:'),\n",
    "             emoji.emojize(':red_heart:\", variant=\"emoji_type'),\n",
    "             emoji.emojize(':beating_heart:'),\n",
    "             emoji.emojize(':smiling_face_with_heart-eyes:')])\n",
    "    \n",
    "master = tk.Tk()\n",
    "master.title(\"WAMS - WhatsApp Automate Message Sender\")\n",
    "\n",
    "tk.Label(master, text='What number would you like to text? number must include the country calling code').grid(row=0)\n",
    "tk.Label(master, text='How many times would you like to send a message?').grid(row=1)\n",
    "tk.Label(master, text='This script sends messages randomly between 2 hours. Choose between waht hours:').grid(row=2, column=0)\n",
    "tk.Label(master, text='From').grid(row=2, column=1)\n",
    "tk.Label(master, text='to').grid(row=2, column=2)\n",
    "\n",
    "phoneNumber = tk.StringVar()\n",
    "numberOfMessages = tk.IntVar()\n",
    "startingHour = tk.IntVar()\n",
    "endingHour = tk.IntVar()\n",
    "\n",
    "phoneNumberEntry = tk.Entry(master, textvariable=phoneNumber).grid(row=0, column=1)\n",
    "numberOfMessagesEntry = tk.Entry(master, textvariable=numberOfMessages).grid(row=1, column=1)\n",
    "\n",
    "options = list(range(0,24))\n",
    "tk.OptionMenu(master, startingHour, *options, command=displayStartHour).grid(row=3, column=1)\n",
    "tk.OptionMenu(master, endingHour, *options, command=displayEndingHour).grid(row=3, column=2)\n",
    "\n",
    "button = tk.Button(master, \n",
    "                   text =\"Start Sending\", \n",
    "                   command=lambda: [countMessages(numberOfMessages.get(), phoneNumber.get(), theMessage, startingHour.get(), endingHour.get())])\n",
    "button.grid(row=4, column=5)\n",
    "tk.mainloop()"
   ]
  },
  {
   "cell_type": "code",
   "execution_count": null,
   "id": "00e8af88",
   "metadata": {},
   "outputs": [],
   "source": []
  }
 ],
 "metadata": {
  "kernelspec": {
   "display_name": "Python 3 (ipykernel)",
   "language": "python",
   "name": "python3"
  },
  "language_info": {
   "codemirror_mode": {
    "name": "ipython",
    "version": 3
   },
   "file_extension": ".py",
   "mimetype": "text/x-python",
   "name": "python",
   "nbconvert_exporter": "python",
   "pygments_lexer": "ipython3",
   "version": "3.7.11"
  }
 },
 "nbformat": 4,
 "nbformat_minor": 5
}
